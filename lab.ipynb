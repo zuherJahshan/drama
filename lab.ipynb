{
 "cells": [
  {
   "cell_type": "code",
   "execution_count": 1,
   "metadata": {},
   "outputs": [],
   "source": [
    "from drama_simulatorv2 import DramaSimulator, Genome\n",
    "import csv\n",
    "import os"
   ]
  },
  {
   "cell_type": "code",
   "execution_count": 2,
   "metadata": {},
   "outputs": [],
   "source": [
    "viruses_ref = [\n",
    "    \"influenza\",\n",
    "    \"lassa\",\n",
    "    \"measles\",\n",
    "    \"sars-cov-2\",\n",
    "    \"rotavirus\",\n",
    "    # \"candidatus-tremblaya\",\n",
    "]\n",
    "\n",
    "viruses_query = [\n",
    "    \"influenza\",\n",
    "    \"lassa\",\n",
    "    \"measles\",\n",
    "    \"sars-cov-2\",\n",
    "    \"rotavirus\",\n",
    "    # \"candidatus-tremblaya\",\n",
    "]\n",
    "\n",
    "sequencers = [\n",
    "    \"illumina\",\n",
    "    \"roche\",\n",
    "    \"pacbio\",\n",
    "]\n",
    "\n",
    "# faulty_cells_list = [2 ** 12]\n",
    "faulty_cells_list = [2 ** 12, 2 ** 13, 2 ** 14, 2 ** 15, 2 ** 16, 2 ** 17, 2 ** 18]\n",
    "ets = [0, 1, 2, 3, 4, 5]\n",
    "# ets = [5]"
   ]
  },
  {
   "cell_type": "code",
   "execution_count": 3,
   "metadata": {},
   "outputs": [],
   "source": [
    "outfile = \"tmp_results.csv\"\n",
    "if not os.path.exists(outfile):\n",
    "    with open(outfile, \"w\") as f:\n",
    "        writer = csv.writer(f)\n",
    "        writer.writerow([\"virus\", \"sequencer\", \"error tolerance\", \"faulty cells\", \"tp\", \"fp\", \"fn\"])"
   ]
  },
  {
   "cell_type": "code",
   "execution_count": 4,
   "metadata": {},
   "outputs": [
    {
     "name": "stdout",
     "output_type": "stream",
     "text": [
      "virus: rotavirus, sequencer: illumina, et: 5, faulty_cells: 4096, tp: 1000, fp: 3583, fn: 0\n",
      "virus: rotavirus, sequencer: roche, et: 5, faulty_cells: 4096, tp: 924, fp: 3686, fn: 76\n",
      "virus: rotavirus, sequencer: pacbio, et: 5, faulty_cells: 4096, tp: 989, fp: 3451, fn: 0\n"
     ]
    }
   ],
   "source": [
    "for faulty_cells in faulty_cells_list:\n",
    "    for et in ets:\n",
    "        drama = DramaSimulator(32, et, faulty_cells)\n",
    "        genomes = [Genome(f\"data/{virus}.fna\") for virus in viruses_ref]\n",
    "        drama.insert_ref(genomes)\n",
    "        for virus in viruses_query:\n",
    "            for sequencer in sequencers:\n",
    "                results = drama.search_reads(virus, f\"data/{virus}.fna\", sequencer)\n",
    "                with open(outfile, \"a\") as f:\n",
    "                    writer = csv.writer(f)\n",
    "                    writer.writerow([virus, sequencer, et, faulty_cells, results[\"tp\"], results[\"fp\"], results[\"fn\"]])\n",
    "                print(f\"virus: {virus}, sequencer: {sequencer}, et: {et}, faulty_cells: {faulty_cells}, tp: {results['tp']}, fp: {results['fp']}, fn: {results['fn']}\")"
   ]
  },
  {
   "cell_type": "code",
   "execution_count": 5,
   "metadata": {},
   "outputs": [],
   "source": [
    "viruses = [\n",
    "    \"influenza\",\n",
    "    \"lassa\",\n",
    "    \"measles\",\n",
    "    \"sars-cov-2\",\n",
    "    \"rotavirus\",\n",
    "]\n",
    "\n",
    "sequencers = [\n",
    "    \"illumina\",\n",
    "    \"roche\",\n",
    "    \"pacbio\",\n",
    "]\n",
    "\n",
    "faulty_cells_list = [2 ** 18]\n",
    "ets = [5]\n",
    "# faulty_cells_list = [2 ** 15]\n",
    "# ets = [3, 4, 5]"
   ]
  },
  {
   "cell_type": "code",
   "execution_count": 6,
   "metadata": {},
   "outputs": [
    {
     "ename": "KeyboardInterrupt",
     "evalue": "",
     "output_type": "error",
     "traceback": [
      "\u001b[0;31m---------------------------------------------------------------------------\u001b[0m",
      "\u001b[0;31mKeyboardInterrupt\u001b[0m                         Traceback (most recent call last)",
      "\u001b[1;32m/home/zuherj/codehub/active/drama/simulator/lab.ipynb Cell 6\u001b[0m line \u001b[0;36m8\n\u001b[1;32m      <a href='vscode-notebook-cell://ssh-remote%2B132.68.59.113/home/zuherj/codehub/active/drama/simulator/lab.ipynb#W5sdnNjb2RlLXJlbW90ZQ%3D%3D?line=5'>6</a>\u001b[0m \u001b[39mfor\u001b[39;00m virus \u001b[39min\u001b[39;00m viruses:\n\u001b[1;32m      <a href='vscode-notebook-cell://ssh-remote%2B132.68.59.113/home/zuherj/codehub/active/drama/simulator/lab.ipynb#W5sdnNjb2RlLXJlbW90ZQ%3D%3D?line=6'>7</a>\u001b[0m     \u001b[39mfor\u001b[39;00m sequencer \u001b[39min\u001b[39;00m sequencers:\n\u001b[0;32m----> <a href='vscode-notebook-cell://ssh-remote%2B132.68.59.113/home/zuherj/codehub/active/drama/simulator/lab.ipynb#W5sdnNjb2RlLXJlbW90ZQ%3D%3D?line=7'>8</a>\u001b[0m         results \u001b[39m=\u001b[39m drama\u001b[39m.\u001b[39msearch_reads(virus, \u001b[39mf\u001b[39m\u001b[39m\"\u001b[39m\u001b[39mdata/\u001b[39m\u001b[39m{\u001b[39;00mvirus\u001b[39m}\u001b[39;00m\u001b[39m.fna\u001b[39m\u001b[39m\"\u001b[39m, sequencer)\n\u001b[1;32m      <a href='vscode-notebook-cell://ssh-remote%2B132.68.59.113/home/zuherj/codehub/active/drama/simulator/lab.ipynb#W5sdnNjb2RlLXJlbW90ZQ%3D%3D?line=8'>9</a>\u001b[0m         \u001b[39mwith\u001b[39;00m \u001b[39mopen\u001b[39m(outfile, \u001b[39m\"\u001b[39m\u001b[39ma\u001b[39m\u001b[39m\"\u001b[39m) \u001b[39mas\u001b[39;00m f:\n\u001b[1;32m     <a href='vscode-notebook-cell://ssh-remote%2B132.68.59.113/home/zuherj/codehub/active/drama/simulator/lab.ipynb#W5sdnNjb2RlLXJlbW90ZQ%3D%3D?line=9'>10</a>\u001b[0m             writer \u001b[39m=\u001b[39m csv\u001b[39m.\u001b[39mwriter(f)\n",
      "File \u001b[0;32m~/codehub/active/drama/simulator/drama_simulatorv2.py:127\u001b[0m, in \u001b[0;36mDramaSimulator.search_reads\u001b[0;34m(self, name, genome_filepath, sequencer)\u001b[0m\n\u001b[1;32m    125\u001b[0m reads \u001b[39m=\u001b[39m \u001b[39mself\u001b[39m\u001b[39m.\u001b[39mreads\u001b[39m.\u001b[39mgetReads(sequencer, genome_filepath)[:\u001b[39m1000\u001b[39m]\n\u001b[1;32m    126\u001b[0m \u001b[39mfor\u001b[39;00m read \u001b[39min\u001b[39;00m reads:\n\u001b[0;32m--> 127\u001b[0m     read_idx_results \u001b[39m=\u001b[39m \u001b[39mself\u001b[39m\u001b[39m.\u001b[39m_search_read(read, name)\n\u001b[1;32m    128\u001b[0m     results[\u001b[39m\"\u001b[39m\u001b[39mtp\u001b[39m\u001b[39m\"\u001b[39m] \u001b[39m+\u001b[39m\u001b[39m=\u001b[39m read_idx_results[\u001b[39m\"\u001b[39m\u001b[39mtp\u001b[39m\u001b[39m\"\u001b[39m]\n\u001b[1;32m    129\u001b[0m     results[\u001b[39m\"\u001b[39m\u001b[39mfp\u001b[39m\u001b[39m\"\u001b[39m] \u001b[39m+\u001b[39m\u001b[39m=\u001b[39m read_idx_results[\u001b[39m\"\u001b[39m\u001b[39mfp\u001b[39m\u001b[39m\"\u001b[39m]\n",
      "File \u001b[0;32m~/codehub/active/drama/simulator/drama_simulatorv2.py:159\u001b[0m, in \u001b[0;36mDramaSimulator._search_read\u001b[0;34m(self, read, name)\u001b[0m\n\u001b[1;32m    157\u001b[0m \u001b[39mfor\u001b[39;00m idx \u001b[39min\u001b[39;00m \u001b[39mrange\u001b[39m(num_kmers):\n\u001b[1;32m    158\u001b[0m     kmer \u001b[39m=\u001b[39m read[idx:idx\u001b[39m+\u001b[39m\u001b[39mself\u001b[39m\u001b[39m.\u001b[39mkmer_size]\n\u001b[0;32m--> 159\u001b[0m     genome_idx_results \u001b[39m=\u001b[39m genome_idx_results \u001b[39m+\u001b[39m \u001b[39mself\u001b[39m\u001b[39m.\u001b[39m_search_kmer(kmer)\n\u001b[1;32m    161\u001b[0m \u001b[39m# If all is zeros return None\u001b[39;00m\n\u001b[1;32m    162\u001b[0m \u001b[39m# print(self.indices_to_genomes)\u001b[39;00m\n\u001b[1;32m    163\u001b[0m tp, fp, fn \u001b[39m=\u001b[39m \u001b[39m0\u001b[39m, \u001b[39m0\u001b[39m, \u001b[39m0\u001b[39m\n",
      "File \u001b[0;32m~/codehub/active/drama/simulator/drama_simulatorv2.py:261\u001b[0m, in \u001b[0;36mDramaSimulator._search_kmer\u001b[0;34m(self, kmer)\u001b[0m\n\u001b[1;32m    259\u001b[0m     \u001b[39mif\u001b[39;00m partial_kmer \u001b[39min\u001b[39;00m \u001b[39mself\u001b[39m\u001b[39m.\u001b[39mkmers:\n\u001b[1;32m    260\u001b[0m         appearing \u001b[39m=\u001b[39m (cp\u001b[39m.\u001b[39mrandom\u001b[39m.\u001b[39mrand(\u001b[39mlen\u001b[39m(\u001b[39mself\u001b[39m\u001b[39m.\u001b[39mkmers[partial_kmer][\u001b[39m\"\u001b[39m\u001b[39mprobabilities\u001b[39m\u001b[39m\"\u001b[39m])) \u001b[39m>\u001b[39m\u001b[39m=\u001b[39m \u001b[39mself\u001b[39m\u001b[39m.\u001b[39mkmers[partial_kmer][\u001b[39m\"\u001b[39m\u001b[39mprobabilities\u001b[39m\u001b[39m\"\u001b[39m])[:, cp\u001b[39m.\u001b[39mnewaxis]\n\u001b[0;32m--> 261\u001b[0m         kmer_idx_results \u001b[39m=\u001b[39m kmer_idx_results \u001b[39m+\u001b[39m (cp\u001b[39m.\u001b[39msum(appearing \u001b[39m*\u001b[39m \u001b[39mself\u001b[39m\u001b[39m.\u001b[39mkmers[partial_kmer][\u001b[39m\"\u001b[39m\u001b[39mgenomes\u001b[39m\u001b[39m\"\u001b[39m], axis\u001b[39m=\u001b[39m\u001b[39m0\u001b[39m) \u001b[39m>\u001b[39m \u001b[39m0\u001b[39m)\n\u001b[1;32m    262\u001b[0m kmer_idx_results \u001b[39m=\u001b[39m kmer_idx_results \u001b[39m>\u001b[39m \u001b[39m0\u001b[39m\n\u001b[1;32m    263\u001b[0m \u001b[39mreturn\u001b[39;00m kmer_idx_results\n",
      "File \u001b[0;32m~/miniconda3/envs/dash-cam/lib/python3.11/site-packages/cupy/_math/sumprod.py:9\u001b[0m, in \u001b[0;36msum\u001b[0;34m(a, axis, dtype, out, keepdims)\u001b[0m\n\u001b[1;32m      5\u001b[0m \u001b[39mfrom\u001b[39;00m \u001b[39mcupy\u001b[39;00m\u001b[39m.\u001b[39;00m\u001b[39m_core\u001b[39;00m \u001b[39mimport\u001b[39;00m _fusion_thread_local\n\u001b[1;32m      6\u001b[0m \u001b[39mfrom\u001b[39;00m \u001b[39mcupy\u001b[39;00m\u001b[39m.\u001b[39;00m\u001b[39m_core\u001b[39;00m \u001b[39mimport\u001b[39;00m internal\n\u001b[0;32m----> 9\u001b[0m \u001b[39mdef\u001b[39;00m \u001b[39msum\u001b[39m(a, axis\u001b[39m=\u001b[39m\u001b[39mNone\u001b[39;00m, dtype\u001b[39m=\u001b[39m\u001b[39mNone\u001b[39;00m, out\u001b[39m=\u001b[39m\u001b[39mNone\u001b[39;00m, keepdims\u001b[39m=\u001b[39m\u001b[39mFalse\u001b[39;00m):\n\u001b[1;32m     10\u001b[0m     \u001b[39m\"\"\"Returns the sum of an array along given axes.\u001b[39;00m\n\u001b[1;32m     11\u001b[0m \n\u001b[1;32m     12\u001b[0m \u001b[39m    Args:\u001b[39;00m\n\u001b[0;32m   (...)\u001b[0m\n\u001b[1;32m     24\u001b[0m \n\u001b[1;32m     25\u001b[0m \u001b[39m    \"\"\"\u001b[39;00m\n\u001b[1;32m     26\u001b[0m     \u001b[39mif\u001b[39;00m _fusion_thread_local\u001b[39m.\u001b[39mis_fusing():\n",
      "\u001b[0;31mKeyboardInterrupt\u001b[0m: "
     ]
    }
   ],
   "source": [
    "for faulty_cells in faulty_cells_list:\n",
    "    for et in ets:\n",
    "        drama = DramaSimulator(32, et, faulty_cells)\n",
    "        genomes = [Genome(f\"data/{virus}.fna\") for virus in viruses]\n",
    "        drama.insert_ref(genomes)\n",
    "        for virus in viruses:\n",
    "            for sequencer in sequencers:\n",
    "                results = drama.search_reads(virus, f\"data/{virus}.fna\", sequencer)\n",
    "                with open(outfile, \"a\") as f:\n",
    "                    writer = csv.writer(f)\n",
    "                    writer.writerow([virus, sequencer, et, faulty_cells, results[\"tp\"], results[\"fp\"], results[\"fn\"]])\n",
    "                print(f\"virus: {virus}, sequencer: {sequencer}, et: {et}, faulty_cells: {faulty_cells}, tp: {results['tp']}, fp: {results['fp']}, fn: {results['fn']}\")"
   ]
  },
  {
   "cell_type": "code",
   "execution_count": null,
   "metadata": {},
   "outputs": [],
   "source": [
    "import cupy as cp\n",
    "A = cp.array([6, 6, 6, 4])\n",
    "A == cp.max(A)\n",
    "for idx, cond in enumerate(A == cp.max(A)):\n",
    "    if cond:\n",
    "        print(idx)"
   ]
  },
  {
   "cell_type": "code",
   "execution_count": null,
   "metadata": {},
   "outputs": [],
   "source": []
  }
 ],
 "metadata": {
  "kernelspec": {
   "display_name": "dash-cam",
   "language": "python",
   "name": "python3"
  },
  "language_info": {
   "codemirror_mode": {
    "name": "ipython",
    "version": 3
   },
   "file_extension": ".py",
   "mimetype": "text/x-python",
   "name": "python",
   "nbconvert_exporter": "python",
   "pygments_lexer": "ipython3",
   "version": "3.11.3"
  },
  "orig_nbformat": 4
 },
 "nbformat": 4,
 "nbformat_minor": 2
}
