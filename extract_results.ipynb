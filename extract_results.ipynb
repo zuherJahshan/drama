{
 "cells": [
  {
   "cell_type": "code",
   "execution_count": 1,
   "metadata": {},
   "outputs": [],
   "source": [
    "import csv\n",
    "import os"
   ]
  },
  {
   "cell_type": "code",
   "execution_count": 2,
   "metadata": {},
   "outputs": [],
   "source": [
    "def calc_sensitivity(tp, fn):\n",
    "    if tp + fn == 0:\n",
    "        return 1\n",
    "    return tp / (tp + fn)\n",
    "\n",
    "def calc_specificity(tn, fp):\n",
    "    if tn + fp == 0:\n",
    "        return 0\n",
    "    return tn / (tn + fp)\n",
    "\n",
    "def calc_accuracy(tp, tn, fp, fn):\n",
    "    if tp + tn + fp + fn == 0:\n",
    "        return 0\n",
    "    return (tp + tn) / (tp + tn + fp + fn)\n",
    "\n",
    "def calc_precision(tp, fp):\n",
    "    if tp + fp <= 10:\n",
    "        return 0\n",
    "    return tp / (tp + fp)\n",
    "\n",
    "def calc_f1_score(sensitivity, precision):\n",
    "    if sensitivity + precision == 0:\n",
    "        return 0\n",
    "    return 2 * (sensitivity * precision) / (sensitivity + precision)"
   ]
  },
  {
   "cell_type": "code",
   "execution_count": 3,
   "metadata": {},
   "outputs": [],
   "source": [
    "with open(\"results.csv\", \"r\") as f:\n",
    "    reader = csv.reader(f)\n",
    "    first_row = True\n",
    "    elements_idcs = {}\n",
    "    results = {}\n",
    "    for row in reader:\n",
    "        if first_row:\n",
    "            first_row = False\n",
    "            descriptor_row = row\n",
    "            for i in range(len(descriptor_row)):\n",
    "                elements_idcs.update({descriptor_row[i]: i})\n",
    "            continue\n",
    "        tp = int(row[elements_idcs[\"tp\"]])\n",
    "        fp = int(row[elements_idcs[\"fp\"]])\n",
    "        fn = int(row[elements_idcs[\"fn\"]])\n",
    "        sensitivity = calc_sensitivity(tp, fn)\n",
    "        precision = calc_precision(tp, fp)\n",
    "        accuracy = calc_accuracy(tp, 0, fp, fn)\n",
    "        f1 = calc_f1_score(sensitivity, precision)\n",
    "        results.update({\n",
    "            (row[0], row[1], row[2], row[3]): {\n",
    "                \"tp\": tp,\n",
    "                \"fp\": fp,\n",
    "                \"fn\": fn,\n",
    "                \"sensitivity\": sensitivity,\n",
    "                \"precision\": precision,\n",
    "                \"f1\": f1,\n",
    "                \"accuracy\": accuracy,\n",
    "            }\n",
    "        })\n"
   ]
  },
  {
   "cell_type": "code",
   "execution_count": 4,
   "metadata": {},
   "outputs": [],
   "source": [
    "# For each virus, graph its sensitivity as a function of error tolerance on the same graph\n",
    "import matplotlib.pyplot as plt\n",
    "import numpy as np\n",
    "\n",
    "virus_to_color = {\n",
    "    \"sars-cov-2\": \"red\",\n",
    "    \"influenza\": \"blue\",\n",
    "    \"rotavirus\": \"green\",\n",
    "    \"measles\": \"orange\",\n",
    "    \"lassa\": \"purple\",\n",
    "}\n",
    "virus_to_offset = {\n",
    "    \"sars-cov-2\": 0.0001,\n",
    "    \"influenza\": 0.0002,\n",
    "    \"rotavirus\": 0,\n",
    "    \"measles\": -0.0001,\n",
    "    \"lassa\": -0.0002,\n",
    "}\n",
    "\n",
    "virus_to_marker = {\n",
    "    \"sars-cov-2\": \"o\",  # Circle\n",
    "    \"influenza\": \"s\",  # Square\n",
    "    \"rotavirus\": \"^\",  # Triangle up\n",
    "    \"measles\": \"D\",    # Diamond\n",
    "    \"lassa\": \"x\",     # X\n",
    "}\n"
   ]
  },
  {
   "cell_type": "code",
   "execution_count": 5,
   "metadata": {},
   "outputs": [],
   "source": [
    "fontsize = 14"
   ]
  },
  {
   "cell_type": "code",
   "execution_count": 6,
   "metadata": {},
   "outputs": [],
   "source": [
    "def graph_var_ed(results, sequencer, viruses, fc_exp, result):\n",
    "    plt.xticks(fontsize=fontsize, fontweight='bold')  # Adjusting font size and weight for x tick labels\n",
    "    plt.yticks(fontsize=fontsize, fontweight='bold')  # Adjusting font size and weight for y tick labels\n",
    "    fc = 2 ** fc_exp\n",
    "    for virus in viruses:\n",
    "        points = []  # To store (error tolerance, result) pairs for sorting and plotting\n",
    "\n",
    "        for key in results:\n",
    "            if (key[elements_idcs[\"virus\"]] == virus and \n",
    "                int(key[elements_idcs[\"faulty cells\"]]) == int(fc) and \n",
    "                key[elements_idcs[\"sequencer\"]] == sequencer):\n",
    "\n",
    "                error_tolerance = key[elements_idcs[\"error tolerance\"]]\n",
    "                result_value = results[key][result]\n",
    "                points.append((error_tolerance, result_value))\n",
    "\n",
    "        # Sort points by error tolerance\n",
    "        points.sort(key=lambda p: p[0])\n",
    "\n",
    "        # Unpack for plotting\n",
    "        x_values, y_values = zip(*points)\n",
    "\n",
    "        # Add dashed line plot with specified marker, line width, and color\n",
    "        plt.plot(x_values, y_values, linestyle='--', color=virus_to_color[virus], label=virus, \n",
    "                 lw=4.0, ms = 10, marker=virus_to_marker[virus])\n",
    "\n",
    "        # show y axis from zero to 1.19\n",
    "        plt.ylim(0, 1.19)\n",
    "        # add label for the virus\n",
    "        plt.xlabel(\"Edit distance\", fontsize=fontsize, fontweight='bold')\n",
    "        plt.ylabel(result, fontsize=fontsize, fontweight='bold')\n",
    "        plt.xticks(fontsize=fontsize, fontweight='bold')  # Adjusting font size and weight for x tick labels\n",
    "        plt.yticks(fontsize=fontsize, fontweight='bold')  # Adjusting font size and weight for y tick labels\n",
    "\n",
    "    # Add grid lines\n",
    "    plt.grid(True, which='both', linestyle='--', linewidth=1, color='gray')\n",
    "\n",
    "    # Add legend after all lines are added\n",
    "    # plt.legend(loc=\"best\")  # Use loc=\"best\" to place the legend at the best position\n",
    "    plt.legend(loc=\"best\", fontsize=12, fontweight='bold')\n",
    "    plt.title(f\"{result} vs. edit distance fc = 2^{fc_exp-20}\", fontsize=fontsize, fontweight='bold')\n",
    "    ax = plt.gca()  # Get the current axis\n",
    "    for spine in ax.spines.values():  # Iterate over the four spines (top, bottom, left, right)\n",
    "        spine.set_linewidth(3)  # Set the spine's line width\n",
    "    # make results dir\n",
    "    if not os.path.exists(\"data/results/ed\"):\n",
    "        os.makedirs(\"data/results/ed\")\n",
    "    plt.savefig(f\"data/results/ed/{sequencer}_{result}_{fc}vs_ed.png\")\n",
    "    #clear the plot\n",
    "    plt.clf()\n"
   ]
  },
  {
   "cell_type": "code",
   "execution_count": 7,
   "metadata": {},
   "outputs": [],
   "source": [
    "def graph_var_fc(results, sequencer, viruses, ed, result):\n",
    "    for virus in viruses:\n",
    "        points = []  # To store (error tolerance, result) pairs for sorting and plotting\n",
    "\n",
    "        for key in results:\n",
    "            if (key[elements_idcs[\"virus\"]] == virus and \n",
    "                int(key[elements_idcs[\"error tolerance\"]]) == int(ed) and \n",
    "                key[elements_idcs[\"sequencer\"]] == sequencer):\n",
    "\n",
    "                fc = int(key[elements_idcs[\"faulty cells\"]])\n",
    "                result_value = results[key][result]\n",
    "                points.append((fc, result_value))\n",
    "\n",
    "        # Sort points by error tolerance\n",
    "        points.sort(key=lambda p: p[0])\n",
    "\n",
    "        # Unpack for plotting\n",
    "        x_values, y_values = zip(*points)\n",
    "\n",
    "        # Add line plot, every line should have a width of 3\n",
    "        # plt.plot(x_values, y_values, \"o-\", color=virus_to_color[virus], label=virus, lw=4, ms=10)\n",
    "        plt.plot(x_values, y_values, linestyle='--', color=virus_to_color[virus], label=virus, \n",
    "                 lw=4.0, ms=10, marker=virus_to_marker[virus])\n",
    "    \n",
    "\n",
    "        # show y axis from zero to 1.19\n",
    "        plt.ylim(0, 1.19)\n",
    "        # add label for the virus\n",
    "        plt.xlabel(\"faulty cells\", fontsize=fontsize, fontweight='bold')\n",
    "        plt.ylabel(result, fontsize=fontsize, fontweight='bold')\n",
    "        plt.xticks(fontsize=fontsize, fontweight='bold')  # Adjusting font size and weight for x tick labels\n",
    "        plt.yticks(fontsize=fontsize, fontweight='bold')  # Adjusting font size and weight for y tick labels\n",
    "\n",
    "    plt.grid(True, which='both', linestyle='--', linewidth=1, color='gray')\n",
    "\n",
    "    # Add legend after all lines are added\n",
    "    plt.legend(loc=\"best\", fontsize=12, fontweight='bold')\n",
    "    plt.title(f\"{sequencer}: {result} vs. edit distance ed = {ed}\", fontsize=fontsize, fontweight='bold')\n",
    "    ax = plt.gca()  # Get the current axis\n",
    "    for spine in ax.spines.values():  # Iterate over the four spines (top, bottom, left, right)\n",
    "        spine.set_linewidth(3)  # Set the spine's line width\n",
    "    if not os.path.exists(\"data/results/fc\"):\n",
    "        os.makedirs(\"data/results/fc\")\n",
    "    plt.figure(figsize=(12, 5))\n",
    "    plt.savefig(f\"data/results/fc/{sequencer}_{result}_{ed}vs_fc.png\", dpi=10000)\n",
    "    #clear the plot\n",
    "    plt.clf()\n"
   ]
  },
  {
   "cell_type": "code",
   "execution_count": 8,
   "metadata": {},
   "outputs": [
    {
     "ename": "TypeError",
     "evalue": "Legend.__init__() got an unexpected keyword argument 'fontweight'",
     "output_type": "error",
     "traceback": [
      "\u001b[0;31m---------------------------------------------------------------------------\u001b[0m",
      "\u001b[0;31mTypeError\u001b[0m                                 Traceback (most recent call last)",
      "\u001b[1;32m/home/zuherj/codehub/active/drama/simulator/extract_results.ipynb Cell 8\u001b[0m line \u001b[0;36m1\n\u001b[0;32m----> <a href='vscode-notebook-cell://ssh-remote%2B132.68.59.113/home/zuherj/codehub/active/drama/simulator/extract_results.ipynb#X10sdnNjb2RlLXJlbW90ZQ%3D%3D?line=0'>1</a>\u001b[0m graph_var_ed(results, \u001b[39m\"\u001b[39m\u001b[39millumina\u001b[39m\u001b[39m\"\u001b[39m, [\u001b[39m\"\u001b[39m\u001b[39msars-cov-2\u001b[39m\u001b[39m\"\u001b[39m, \u001b[39m\"\u001b[39m\u001b[39mrotavirus\u001b[39m\u001b[39m\"\u001b[39m, \u001b[39m\"\u001b[39m\u001b[39minfluenza\u001b[39m\u001b[39m\"\u001b[39m, \u001b[39m\"\u001b[39m\u001b[39mmeasles\u001b[39m\u001b[39m\"\u001b[39m, \u001b[39m\"\u001b[39m\u001b[39mlassa\u001b[39m\u001b[39m\"\u001b[39m], \u001b[39m14\u001b[39m, \u001b[39m\"\u001b[39m\u001b[39msensitivity\u001b[39m\u001b[39m\"\u001b[39m)\n\u001b[1;32m      <a href='vscode-notebook-cell://ssh-remote%2B132.68.59.113/home/zuherj/codehub/active/drama/simulator/extract_results.ipynb#X10sdnNjb2RlLXJlbW90ZQ%3D%3D?line=1'>2</a>\u001b[0m graph_var_ed(results, \u001b[39m\"\u001b[39m\u001b[39millumina\u001b[39m\u001b[39m\"\u001b[39m, [\u001b[39m\"\u001b[39m\u001b[39msars-cov-2\u001b[39m\u001b[39m\"\u001b[39m, \u001b[39m\"\u001b[39m\u001b[39mrotavirus\u001b[39m\u001b[39m\"\u001b[39m, \u001b[39m\"\u001b[39m\u001b[39minfluenza\u001b[39m\u001b[39m\"\u001b[39m, \u001b[39m\"\u001b[39m\u001b[39mmeasles\u001b[39m\u001b[39m\"\u001b[39m, \u001b[39m\"\u001b[39m\u001b[39mlassa\u001b[39m\u001b[39m\"\u001b[39m], \u001b[39m14\u001b[39m, \u001b[39m\"\u001b[39m\u001b[39mprecision\u001b[39m\u001b[39m\"\u001b[39m)\n\u001b[1;32m      <a href='vscode-notebook-cell://ssh-remote%2B132.68.59.113/home/zuherj/codehub/active/drama/simulator/extract_results.ipynb#X10sdnNjb2RlLXJlbW90ZQ%3D%3D?line=2'>3</a>\u001b[0m graph_var_ed(results, \u001b[39m\"\u001b[39m\u001b[39millumina\u001b[39m\u001b[39m\"\u001b[39m, [\u001b[39m\"\u001b[39m\u001b[39msars-cov-2\u001b[39m\u001b[39m\"\u001b[39m, \u001b[39m\"\u001b[39m\u001b[39mrotavirus\u001b[39m\u001b[39m\"\u001b[39m, \u001b[39m\"\u001b[39m\u001b[39minfluenza\u001b[39m\u001b[39m\"\u001b[39m, \u001b[39m\"\u001b[39m\u001b[39mmeasles\u001b[39m\u001b[39m\"\u001b[39m, \u001b[39m\"\u001b[39m\u001b[39mlassa\u001b[39m\u001b[39m\"\u001b[39m], \u001b[39m14\u001b[39m, \u001b[39m\"\u001b[39m\u001b[39mf1\u001b[39m\u001b[39m\"\u001b[39m)\n",
      "\u001b[1;32m/home/zuherj/codehub/active/drama/simulator/extract_results.ipynb Cell 8\u001b[0m line \u001b[0;36m4\n\u001b[1;32m     <a href='vscode-notebook-cell://ssh-remote%2B132.68.59.113/home/zuherj/codehub/active/drama/simulator/extract_results.ipynb#X10sdnNjb2RlLXJlbW90ZQ%3D%3D?line=35'>36</a>\u001b[0m plt\u001b[39m.\u001b[39mgrid(\u001b[39mTrue\u001b[39;00m, which\u001b[39m=\u001b[39m\u001b[39m'\u001b[39m\u001b[39mboth\u001b[39m\u001b[39m'\u001b[39m, linestyle\u001b[39m=\u001b[39m\u001b[39m'\u001b[39m\u001b[39m--\u001b[39m\u001b[39m'\u001b[39m, linewidth\u001b[39m=\u001b[39m\u001b[39m1\u001b[39m, color\u001b[39m=\u001b[39m\u001b[39m'\u001b[39m\u001b[39mgray\u001b[39m\u001b[39m'\u001b[39m)\n\u001b[1;32m     <a href='vscode-notebook-cell://ssh-remote%2B132.68.59.113/home/zuherj/codehub/active/drama/simulator/extract_results.ipynb#X10sdnNjb2RlLXJlbW90ZQ%3D%3D?line=37'>38</a>\u001b[0m \u001b[39m# Add legend after all lines are added\u001b[39;00m\n\u001b[1;32m     <a href='vscode-notebook-cell://ssh-remote%2B132.68.59.113/home/zuherj/codehub/active/drama/simulator/extract_results.ipynb#X10sdnNjb2RlLXJlbW90ZQ%3D%3D?line=38'>39</a>\u001b[0m \u001b[39m# plt.legend(loc=\"best\")  # Use loc=\"best\" to place the legend at the best position\u001b[39;00m\n\u001b[0;32m---> <a href='vscode-notebook-cell://ssh-remote%2B132.68.59.113/home/zuherj/codehub/active/drama/simulator/extract_results.ipynb#X10sdnNjb2RlLXJlbW90ZQ%3D%3D?line=39'>40</a>\u001b[0m plt\u001b[39m.\u001b[39mlegend(loc\u001b[39m=\u001b[39m\u001b[39m\"\u001b[39m\u001b[39mbest\u001b[39m\u001b[39m\"\u001b[39m, fontsize\u001b[39m=\u001b[39m\u001b[39m12\u001b[39m, fontweight\u001b[39m=\u001b[39m\u001b[39m'\u001b[39m\u001b[39mbold\u001b[39m\u001b[39m'\u001b[39m)\n\u001b[1;32m     <a href='vscode-notebook-cell://ssh-remote%2B132.68.59.113/home/zuherj/codehub/active/drama/simulator/extract_results.ipynb#X10sdnNjb2RlLXJlbW90ZQ%3D%3D?line=40'>41</a>\u001b[0m plt\u001b[39m.\u001b[39mtitle(\u001b[39mf\u001b[39m\u001b[39m\"\u001b[39m\u001b[39m{\u001b[39;00mresult\u001b[39m}\u001b[39;00m\u001b[39m vs. edit distance fc = 2^\u001b[39m\u001b[39m{\u001b[39;00mfc_exp\u001b[39m-\u001b[39m\u001b[39m20\u001b[39m\u001b[39m}\u001b[39;00m\u001b[39m\"\u001b[39m, fontsize\u001b[39m=\u001b[39mfontsize, fontweight\u001b[39m=\u001b[39m\u001b[39m'\u001b[39m\u001b[39mbold\u001b[39m\u001b[39m'\u001b[39m)\n\u001b[1;32m     <a href='vscode-notebook-cell://ssh-remote%2B132.68.59.113/home/zuherj/codehub/active/drama/simulator/extract_results.ipynb#X10sdnNjb2RlLXJlbW90ZQ%3D%3D?line=41'>42</a>\u001b[0m ax \u001b[39m=\u001b[39m plt\u001b[39m.\u001b[39mgca()  \u001b[39m# Get the current axis\u001b[39;00m\n",
      "File \u001b[0;32m~/miniconda3/envs/dash-cam/lib/python3.11/site-packages/matplotlib/pyplot.py:3372\u001b[0m, in \u001b[0;36mlegend\u001b[0;34m(*args, **kwargs)\u001b[0m\n\u001b[1;32m   3370\u001b[0m \u001b[39m@_copy_docstring_and_deprecators\u001b[39m(Axes\u001b[39m.\u001b[39mlegend)\n\u001b[1;32m   3371\u001b[0m \u001b[39mdef\u001b[39;00m \u001b[39mlegend\u001b[39m(\u001b[39m*\u001b[39margs, \u001b[39m*\u001b[39m\u001b[39m*\u001b[39mkwargs) \u001b[39m-\u001b[39m\u001b[39m>\u001b[39m Legend:\n\u001b[0;32m-> 3372\u001b[0m     \u001b[39mreturn\u001b[39;00m gca()\u001b[39m.\u001b[39mlegend(\u001b[39m*\u001b[39margs, \u001b[39m*\u001b[39m\u001b[39m*\u001b[39mkwargs)\n",
      "File \u001b[0;32m~/miniconda3/envs/dash-cam/lib/python3.11/site-packages/matplotlib/axes/_axes.py:323\u001b[0m, in \u001b[0;36mAxes.legend\u001b[0;34m(self, *args, **kwargs)\u001b[0m\n\u001b[1;32m    206\u001b[0m \u001b[39m\"\"\"\u001b[39;00m\n\u001b[1;32m    207\u001b[0m \u001b[39mPlace a legend on the Axes.\u001b[39;00m\n\u001b[1;32m    208\u001b[0m \n\u001b[0;32m   (...)\u001b[0m\n\u001b[1;32m    320\u001b[0m \u001b[39m.. plot:: gallery/text_labels_and_annotations/legend.py\u001b[39;00m\n\u001b[1;32m    321\u001b[0m \u001b[39m\"\"\"\u001b[39;00m\n\u001b[1;32m    322\u001b[0m handles, labels, kwargs \u001b[39m=\u001b[39m mlegend\u001b[39m.\u001b[39m_parse_legend_args([\u001b[39mself\u001b[39m], \u001b[39m*\u001b[39margs, \u001b[39m*\u001b[39m\u001b[39m*\u001b[39mkwargs)\n\u001b[0;32m--> 323\u001b[0m \u001b[39mself\u001b[39m\u001b[39m.\u001b[39mlegend_ \u001b[39m=\u001b[39m mlegend\u001b[39m.\u001b[39mLegend(\u001b[39mself\u001b[39m, handles, labels, \u001b[39m*\u001b[39m\u001b[39m*\u001b[39mkwargs)\n\u001b[1;32m    324\u001b[0m \u001b[39mself\u001b[39m\u001b[39m.\u001b[39mlegend_\u001b[39m.\u001b[39m_remove_method \u001b[39m=\u001b[39m \u001b[39mself\u001b[39m\u001b[39m.\u001b[39m_remove_legend\n\u001b[1;32m    325\u001b[0m \u001b[39mreturn\u001b[39;00m \u001b[39mself\u001b[39m\u001b[39m.\u001b[39mlegend_\n",
      "\u001b[0;31mTypeError\u001b[0m: Legend.__init__() got an unexpected keyword argument 'fontweight'"
     ]
    },
    {
     "data": {
      "image/png": "[encoded data removed]",
      "text/plain": [
       "<Figure size 640x480 with 1 Axes>"
      ]
     },
     "metadata": {},
     "output_type": "display_data"
    }
   ],
   "source": [
    "graph_var_ed(results, \"illumina\", [\"sars-cov-2\", \"rotavirus\", \"influenza\", \"measles\", \"lassa\"], 14, \"sensitivity\")\n",
    "graph_var_ed(results, \"illumina\", [\"sars-cov-2\", \"rotavirus\", \"influenza\", \"measles\", \"lassa\"], 14, \"precision\")\n",
    "graph_var_ed(results, \"illumina\", [\"sars-cov-2\", \"rotavirus\", \"influenza\", \"measles\", \"lassa\"], 14, \"f1\")\n",
    "\n",
    "graph_var_ed(results, \"roche\", [\"sars-cov-2\", \"rotavirus\", \"influenza\", \"measles\", \"lassa\"], 14, \"sensitivity\")\n",
    "graph_var_ed(results, \"roche\", [\"sars-cov-2\", \"rotavirus\", \"influenza\", \"measles\", \"lassa\"], 14, \"precision\")\n",
    "graph_var_ed(results, \"roche\", [\"sars-cov-2\", \"rotavirus\", \"influenza\", \"measles\", \"lassa\"], 14, \"f1\")\n",
    "\n",
    "graph_var_ed(results, \"pacbio\", [\"sars-cov-2\", \"rotavirus\", \"influenza\", \"measles\", \"lassa\"], 14, \"sensitivity\")\n",
    "graph_var_ed(results, \"pacbio\", [\"sars-cov-2\", \"rotavirus\", \"influenza\", \"measles\", \"lassa\"], 14, \"precision\")\n",
    "graph_var_ed(results, \"pacbio\", [\"sars-cov-2\", \"rotavirus\", \"influenza\", \"measles\", \"lassa\"], 14, \"f1\")"
   ]
  },
  {
   "cell_type": "code",
   "execution_count": null,
   "metadata": {},
   "outputs": [],
   "source": [
    "graph_var_fc(results, \"illumina\", [\"sars-cov-2\", \"rotavirus\", \"influenza\", \"measles\", \"lassa\"], 1, \"sensitivity\")\n",
    "graph_var_fc(results, \"illumina\", [\"sars-cov-2\", \"rotavirus\", \"influenza\", \"measles\", \"lassa\"], 1, \"precision\")\n",
    "graph_var_fc(results, \"illumina\", [\"sars-cov-2\", \"rotavirus\", \"influenza\", \"measles\", \"lassa\"], 1, \"f1\")\n",
    "\n",
    "graph_var_fc(results, \"roche\", [\"sars-cov-2\", \"rotavirus\", \"influenza\", \"measles\", \"lassa\"], 1, \"sensitivity\")\n",
    "graph_var_fc(results, \"roche\", [\"sars-cov-2\", \"rotavirus\", \"influenza\", \"measles\", \"lassa\"], 1, \"precision\")\n",
    "graph_var_fc(results, \"roche\", [\"sars-cov-2\", \"rotavirus\", \"influenza\", \"measles\", \"lassa\"], 1, \"f1\")\n",
    "\n",
    "graph_var_fc(results, \"pacbio\", [\"sars-cov-2\", \"rotavirus\", \"influenza\", \"measles\", \"lassa\"], 1, \"sensitivity\")\n",
    "graph_var_fc(results, \"pacbio\", [\"sars-cov-2\", \"rotavirus\", \"influenza\", \"measles\", \"lassa\"], 1, \"precision\")\n",
    "graph_var_fc(results, \"pacbio\", [\"sars-cov-2\", \"rotavirus\", \"influenza\", \"measles\", \"lassa\"], 1, \"f1\")"
   ]
  },
  {
   "cell_type": "code",
   "execution_count": 4,
   "metadata": {},
   "outputs": [
    {
     "ename": "SyntaxError",
     "evalue": "closing parenthesis ']' does not match opening parenthesis '(' (1789514694.py, line 15)",
     "output_type": "error",
     "traceback": [
      "\u001b[0;36m  Cell \u001b[0;32mIn[4], line 15\u001b[0;36m\u001b[0m\n\u001b[0;31m    csv_writer.writerow(f\"2^{fc_exp-20}\"] + [results[(virus, sequencer, str(ed), str(fc))][result] for virus in viruses])\u001b[0m\n\u001b[0m                                        ^\u001b[0m\n\u001b[0;31mSyntaxError\u001b[0m\u001b[0;31m:\u001b[0m closing parenthesis ']' does not match opening parenthesis '('\n"
     ]
    }
   ],
   "source": [
    "def write_var_ed_results(results, viruses, sequencer, fc, result, csv_writer):\n",
    "    csv_writer.writerow([sequencer, result])\n",
    "    csv_writer.writerow([\"\", \"Virus\"])\n",
    "    csv_writer.writerow([\"ED\"] + viruses)\n",
    "    for ed in [0,1,2,3,4,5]:\n",
    "        csv_writer.writerow([ed] + [results[(virus, sequencer, str(ed), str(fc))][result] for virus in viruses])\n",
    "\n",
    "\n",
    "def write_var_fc_results(results, viruses, sequencer, ed, result, csv_writer):\n",
    "    csv_writer.writerow([sequencer, result])\n",
    "    csv_writer.writerow([\"\", \"Virus\"])\n",
    "    csv_writer.writerow([\"FC\"] + viruses)\n",
    "    for fc_exp in [12,13,14,15,16,17,18]:\n",
    "        fc = 2 ** fc_exp\n",
    "        csv_writer.writerow([f\"2^{fc_exp-20}\"] + [results[(virus, sequencer, str(ed), str(fc))][result] for virus in viruses])\n",
    "\n",
    "\n",
    "def write_avg_var_ed_results(results, viruses, sequencer, fcs, result, csv_writer):\n",
    "    csv_writer.writerow([sequencer, result])\n",
    "    csv_writer.writerow([\"ED\"] + fcs)\n",
    "    for ed in [0,1,2,3,4,5]:\n",
    "        csv_writer.writerow([ed] + [np.mean([results[(virus, sequencer, str(ed), str(fc))][result] for virus in viruses]) for fc in fcs])\n",
    "\n",
    "\n",
    "def write_avg_var_fc_results(results, viruses, sequencer, eds, result, csv_writer):\n",
    "    csv_writer.writerow([sequencer, result])\n",
    "    csv_writer.writerow([\"FC\"] + eds)\n",
    "    for fc_exp in [12,13,14,15,16,17,18]:\n",
    "        fc = 2 ** fc_exp\n",
    "        csv_writer.writerow([f\"2^{fc_exp-20}\"] + [np.mean([results[(virus, sequencer, str(ed), str(fc))][result] for virus in viruses]) for ed in eds])\n",
    "\n",
    "        \n",
    "    "
   ]
  },
  {
   "cell_type": "code",
   "execution_count": 20,
   "metadata": {},
   "outputs": [],
   "source": [
    "viruses = [\"sars-cov-2\", \"rotavirus\", \"influenza\", \"measles\", \"lassa\"]\n",
    "fc_exp = 0\n",
    "if fc_exp == 0:\n",
    "    fc = 0\n",
    "else:\n",
    "    fc = 2 ** fc_exp\n",
    "with open(f\"data/results/fc=2^{fc_exp-20}.csv\", \"w\") as f:\n",
    "    writer = csv.writer(f)\n",
    "    write_var_ed_results(results, viruses,\"illumina\", fc, \"sensitivity\", writer)\n",
    "    write_var_ed_results(results, viruses, \"illumina\", fc, \"precision\", writer)\n",
    "    write_var_ed_results(results, viruses, \"illumina\", fc, \"f1\", writer)\n",
    "    write_var_ed_results(results, viruses,\"roche\", fc, \"sensitivity\", writer)\n",
    "    write_var_ed_results(results, viruses, \"roche\", fc, \"precision\", writer)\n",
    "    write_var_ed_results(results, viruses, \"roche\", fc, \"f1\", writer)\n",
    "    write_var_ed_results(results, viruses,\"pacbio\", fc, \"sensitivity\", writer)\n",
    "    write_var_ed_results(results, viruses, \"pacbio\", fc, \"precision\", writer)\n",
    "    write_var_ed_results(results, viruses, \"pacbio\", fc, \"f1\", writer)"
   ]
  },
  {
   "cell_type": "code",
   "execution_count": 22,
   "metadata": {},
   "outputs": [],
   "source": [
    "viruses = [\"sars-cov-2\", \"rotavirus\", \"influenza\", \"measles\", \"lassa\"]\n",
    "ed = 3\n",
    "with open(f\"data/results/ed={ed}.csv\", \"w\") as f:\n",
    "    writer = csv.writer(f)\n",
    "    write_var_fc_results(results, viruses, \"illumina\", ed, \"sensitivity\", writer)\n",
    "    write_var_fc_results(results, viruses, \"illumina\", ed, \"precision\", writer)\n",
    "    write_var_fc_results(results, viruses, \"illumina\", ed, \"f1\", writer)\n",
    "    write_var_fc_results(results, viruses, \"roche\", ed, \"sensitivity\", writer)\n",
    "    write_var_fc_results(results, viruses, \"roche\", ed, \"precision\", writer)\n",
    "    write_var_fc_results(results, viruses, \"roche\", ed, \"f1\", writer)\n",
    "    write_var_fc_results(results, viruses, \"pacbio\", ed, \"sensitivity\", writer)\n",
    "    write_var_fc_results(results, viruses, \"pacbio\", ed, \"precision\", writer)\n",
    "    write_var_fc_results(results, viruses, \"pacbio\", ed, \"f1\", writer)"
   ]
  },
  {
   "cell_type": "code",
   "execution_count": 11,
   "metadata": {},
   "outputs": [
    {
     "ename": "NameError",
     "evalue": "name 'np' is not defined",
     "output_type": "error",
     "traceback": [
      "\u001b[0;31m---------------------------------------------------------------------------\u001b[0m",
      "\u001b[0;31mNameError\u001b[0m                                 Traceback (most recent call last)",
      "\u001b[1;32m/home/zuherj/codehub/active/drama/simulator/extract_results.ipynb Cell 13\u001b[0m line \u001b[0;36m5\n\u001b[1;32m      <a href='vscode-notebook-cell://ssh-remote%2B132.68.59.113/home/zuherj/codehub/active/drama/simulator/extract_results.ipynb#X15sdnNjb2RlLXJlbW90ZQ%3D%3D?line=2'>3</a>\u001b[0m \u001b[39mwith\u001b[39;00m \u001b[39mopen\u001b[39m(\u001b[39mf\u001b[39m\u001b[39m\"\u001b[39m\u001b[39mdata/results/avg_var_fc.csv\u001b[39m\u001b[39m\"\u001b[39m, \u001b[39m\"\u001b[39m\u001b[39mw\u001b[39m\u001b[39m\"\u001b[39m) \u001b[39mas\u001b[39;00m f:\n\u001b[1;32m      <a href='vscode-notebook-cell://ssh-remote%2B132.68.59.113/home/zuherj/codehub/active/drama/simulator/extract_results.ipynb#X15sdnNjb2RlLXJlbW90ZQ%3D%3D?line=3'>4</a>\u001b[0m     writer \u001b[39m=\u001b[39m csv\u001b[39m.\u001b[39mwriter(f)\n\u001b[0;32m----> <a href='vscode-notebook-cell://ssh-remote%2B132.68.59.113/home/zuherj/codehub/active/drama/simulator/extract_results.ipynb#X15sdnNjb2RlLXJlbW90ZQ%3D%3D?line=4'>5</a>\u001b[0m     write_avg_var_fc_results(results, viruses, \u001b[39m\"\u001b[39m\u001b[39millumina\u001b[39m\u001b[39m\"\u001b[39m, eds, \u001b[39m\"\u001b[39m\u001b[39msensitivity\u001b[39m\u001b[39m\"\u001b[39m, writer)\n\u001b[1;32m      <a href='vscode-notebook-cell://ssh-remote%2B132.68.59.113/home/zuherj/codehub/active/drama/simulator/extract_results.ipynb#X15sdnNjb2RlLXJlbW90ZQ%3D%3D?line=5'>6</a>\u001b[0m     write_avg_var_fc_results(results, viruses, \u001b[39m\"\u001b[39m\u001b[39millumina\u001b[39m\u001b[39m\"\u001b[39m, eds, \u001b[39m\"\u001b[39m\u001b[39mprecision\u001b[39m\u001b[39m\"\u001b[39m, writer)\n\u001b[1;32m      <a href='vscode-notebook-cell://ssh-remote%2B132.68.59.113/home/zuherj/codehub/active/drama/simulator/extract_results.ipynb#X15sdnNjb2RlLXJlbW90ZQ%3D%3D?line=6'>7</a>\u001b[0m     write_avg_var_fc_results(results, viruses, \u001b[39m\"\u001b[39m\u001b[39millumina\u001b[39m\u001b[39m\"\u001b[39m, eds, \u001b[39m\"\u001b[39m\u001b[39mf1\u001b[39m\u001b[39m\"\u001b[39m, writer)\n",
      "\u001b[1;32m/home/zuherj/codehub/active/drama/simulator/extract_results.ipynb Cell 13\u001b[0m line \u001b[0;36m3\n\u001b[1;32m     <a href='vscode-notebook-cell://ssh-remote%2B132.68.59.113/home/zuherj/codehub/active/drama/simulator/extract_results.ipynb#X15sdnNjb2RlLXJlbW90ZQ%3D%3D?line=27'>28</a>\u001b[0m \u001b[39mfor\u001b[39;00m fc_exp \u001b[39min\u001b[39;00m [\u001b[39m12\u001b[39m,\u001b[39m13\u001b[39m,\u001b[39m14\u001b[39m,\u001b[39m15\u001b[39m,\u001b[39m16\u001b[39m,\u001b[39m17\u001b[39m,\u001b[39m18\u001b[39m]:\n\u001b[1;32m     <a href='vscode-notebook-cell://ssh-remote%2B132.68.59.113/home/zuherj/codehub/active/drama/simulator/extract_results.ipynb#X15sdnNjb2RlLXJlbW90ZQ%3D%3D?line=28'>29</a>\u001b[0m     fc \u001b[39m=\u001b[39m \u001b[39m2\u001b[39m \u001b[39m*\u001b[39m\u001b[39m*\u001b[39m fc_exp\n\u001b[0;32m---> <a href='vscode-notebook-cell://ssh-remote%2B132.68.59.113/home/zuherj/codehub/active/drama/simulator/extract_results.ipynb#X15sdnNjb2RlLXJlbW90ZQ%3D%3D?line=29'>30</a>\u001b[0m     csv_writer\u001b[39m.\u001b[39mwriterow([fc] \u001b[39m+\u001b[39m [np\u001b[39m.\u001b[39mmean([results[(virus, sequencer, \u001b[39mstr\u001b[39m(ed), \u001b[39mstr\u001b[39m(fc))][result] \u001b[39mfor\u001b[39;00m virus \u001b[39min\u001b[39;00m viruses]) \u001b[39mfor\u001b[39;00m ed \u001b[39min\u001b[39;00m eds])\n",
      "\u001b[1;32m/home/zuherj/codehub/active/drama/simulator/extract_results.ipynb Cell 13\u001b[0m line \u001b[0;36m3\n\u001b[1;32m     <a href='vscode-notebook-cell://ssh-remote%2B132.68.59.113/home/zuherj/codehub/active/drama/simulator/extract_results.ipynb#X15sdnNjb2RlLXJlbW90ZQ%3D%3D?line=27'>28</a>\u001b[0m \u001b[39mfor\u001b[39;00m fc_exp \u001b[39min\u001b[39;00m [\u001b[39m12\u001b[39m,\u001b[39m13\u001b[39m,\u001b[39m14\u001b[39m,\u001b[39m15\u001b[39m,\u001b[39m16\u001b[39m,\u001b[39m17\u001b[39m,\u001b[39m18\u001b[39m]:\n\u001b[1;32m     <a href='vscode-notebook-cell://ssh-remote%2B132.68.59.113/home/zuherj/codehub/active/drama/simulator/extract_results.ipynb#X15sdnNjb2RlLXJlbW90ZQ%3D%3D?line=28'>29</a>\u001b[0m     fc \u001b[39m=\u001b[39m \u001b[39m2\u001b[39m \u001b[39m*\u001b[39m\u001b[39m*\u001b[39m fc_exp\n\u001b[0;32m---> <a href='vscode-notebook-cell://ssh-remote%2B132.68.59.113/home/zuherj/codehub/active/drama/simulator/extract_results.ipynb#X15sdnNjb2RlLXJlbW90ZQ%3D%3D?line=29'>30</a>\u001b[0m     csv_writer\u001b[39m.\u001b[39mwriterow([fc] \u001b[39m+\u001b[39m [np\u001b[39m.\u001b[39mmean([results[(virus, sequencer, \u001b[39mstr\u001b[39m(ed), \u001b[39mstr\u001b[39m(fc))][result] \u001b[39mfor\u001b[39;00m virus \u001b[39min\u001b[39;00m viruses]) \u001b[39mfor\u001b[39;00m ed \u001b[39min\u001b[39;00m eds])\n",
      "\u001b[0;31mNameError\u001b[0m: name 'np' is not defined"
     ]
    }
   ],
   "source": [
    "viruses = [\"sars-cov-2\", \"rotavirus\", \"influenza\", \"measles\", \"lassa\"]\n",
    "eds = [0,1,2,3,4,5]\n",
    "with open(f\"data/results/avg_var_fc.csv\", \"w\") as f:\n",
    "    writer = csv.writer(f)\n",
    "    write_avg_var_fc_results(results, viruses, \"illumina\", eds, \"sensitivity\", writer)\n",
    "    write_avg_var_fc_results(results, viruses, \"illumina\", eds, \"precision\", writer)\n",
    "    write_avg_var_fc_results(results, viruses, \"illumina\", eds, \"f1\", writer)\n",
    "    write_avg_var_fc_results(results, viruses, \"roche\", eds, \"sensitivity\", writer)\n",
    "    write_avg_var_fc_results(results, viruses, \"roche\", eds, \"precision\", writer)\n",
    "    write_avg_var_fc_results(results, viruses, \"roche\", eds, \"f1\", writer)\n",
    "    write_avg_var_fc_results(results, viruses, \"pacbio\", eds, \"sensitivity\", writer)\n",
    "    write_avg_var_fc_results(results, viruses, \"pacbio\", eds, \"precision\", writer)\n",
    "    write_avg_var_fc_results(results, viruses, \"pacbio\", eds, \"f1\", writer)"
   ]
  },
  {
   "cell_type": "code",
   "execution_count": 26,
   "metadata": {},
   "outputs": [],
   "source": [
    "viruses = [\"sars-cov-2\", \"rotavirus\", \"influenza\", \"measles\", \"lassa\"]\n",
    "fcs = [0, 2 ** 12, 2 ** 13, 2 ** 14, 2 ** 15, 2 ** 16, 2 ** 17, 2 ** 18]\n",
    "with open(f\"data/results/avg_var_ed.csv\", \"w\") as f:\n",
    "    writer = csv.writer(f)\n",
    "    write_avg_var_ed_results(results, viruses, \"illumina\", fcs, \"sensitivity\", writer)\n",
    "    write_avg_var_ed_results(results, viruses, \"illumina\", fcs, \"precision\", writer)\n",
    "    write_avg_var_ed_results(results, viruses, \"illumina\", fcs, \"f1\", writer)\n",
    "    write_avg_var_ed_results(results, viruses, \"roche\", fcs, \"sensitivity\", writer)\n",
    "    write_avg_var_ed_results(results, viruses, \"roche\", fcs, \"precision\", writer)\n",
    "    write_avg_var_ed_results(results, viruses, \"roche\", fcs, \"f1\", writer)\n",
    "    write_avg_var_ed_results(results, viruses, \"pacbio\", fcs, \"sensitivity\", writer)\n",
    "    write_avg_var_ed_results(results, viruses, \"pacbio\", fcs, \"precision\", writer)\n",
    "    write_avg_var_ed_results(results, viruses, \"pacbio\", fcs, \"f1\", writer)"
   ]
  },
  {
   "cell_type": "code",
   "execution_count": 15,
   "metadata": {},
   "outputs": [
    {
     "data": {
      "text/plain": [
       "{'tp': 1000,\n",
       " 'fp': 0,\n",
       " 'fn': 0,\n",
       " 'sensitivity': 1.0,\n",
       " 'precision': 1.0,\n",
       " 'f1': 1.0,\n",
       " 'accuracy': 1.0}"
      ]
     },
     "execution_count": 15,
     "metadata": {},
     "output_type": "execute_result"
    }
   ],
   "source": [
    "results[('influenza', 'illumina', '1', '0')]"
   ]
  },
  {
   "cell_type": "code",
   "execution_count": null,
   "metadata": {},
   "outputs": [],
   "source": []
  }
 ],
 "metadata": {
  "kernelspec": {
   "display_name": "dash-cam",
   "language": "python",
   "name": "python3"
  },
  "language_info": {
   "codemirror_mode": {
    "name": "ipython",
    "version": 3
   },
   "file_extension": ".py",
   "mimetype": "text/x-python",
   "name": "python",
   "nbconvert_exporter": "python",
   "pygments_lexer": "ipython3",
   "version": "3.11.3"
  }
 },
 "nbformat": 4,
 "nbformat_minor": 2
}
